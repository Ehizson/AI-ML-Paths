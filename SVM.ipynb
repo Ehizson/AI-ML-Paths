{
  "nbformat": 4,
  "nbformat_minor": 0,
  "metadata": {
    "colab": {
      "provenance": [],
      "authorship_tag": "ABX9TyP9h6UV8LE/VZ4g+2wCwL6e",
      "include_colab_link": true
    },
    "kernelspec": {
      "name": "python3",
      "display_name": "Python 3"
    },
    "language_info": {
      "name": "python"
    }
  },
  "cells": [
    {
      "cell_type": "markdown",
      "metadata": {
        "id": "view-in-github",
        "colab_type": "text"
      },
      "source": [
        "<a href=\"https://colab.research.google.com/github/Ehizson/AI-ML-Paths/blob/main/SVM.ipynb\" target=\"_parent\"><img src=\"https://colab.research.google.com/assets/colab-badge.svg\" alt=\"Open In Colab\"/></a>"
      ]
    },
    {
      "cell_type": "markdown",
      "source": [
        "# **Support Vector Machine**\n",
        "\n",
        "\n",
        "* The aim is to develop a model using SVM algorithm on the dataset\n",
        "\n"
      ],
      "metadata": {
        "id": "m715R9v49iPQ"
      }
    },
    {
      "cell_type": "code",
      "execution_count": 1,
      "metadata": {
        "id": "WCqY-d1t2A72"
      },
      "outputs": [],
      "source": [
        "#import libraries\n",
        "\n",
        "import pandas as pd\n",
        "import numpy as np\n",
        "import matplotlib.pyplot as plt\n",
        "import seaborn as sns"
      ]
    },
    {
      "cell_type": "code",
      "source": [
        "#loading dataset\n",
        "\n",
        "df = pd.read_csv('/content/water_potability.csv')"
      ],
      "metadata": {
        "id": "BJgo8MMmNNrK"
      },
      "execution_count": 2,
      "outputs": []
    },
    {
      "cell_type": "markdown",
      "source": [
        "### **Data Preparation**"
      ],
      "metadata": {
        "id": "47g05LyZ7rzU"
      }
    },
    {
      "cell_type": "code",
      "source": [
        "df.head()"
      ],
      "metadata": {
        "colab": {
          "base_uri": "https://localhost:8080/",
          "height": 206
        },
        "id": "3pV-3h1-N5kd",
        "outputId": "df726af4-c047-4dd4-ed23-bdd42c05b74d"
      },
      "execution_count": 3,
      "outputs": [
        {
          "output_type": "execute_result",
          "data": {
            "text/plain": [
              "         ph    Hardness        Solids  Chloramines     Sulfate  Conductivity  \\\n",
              "0       NaN  204.890455  20791.318981     7.300212  368.516441    564.308654   \n",
              "1  3.716080  129.422921  18630.057858     6.635246         NaN    592.885359   \n",
              "2  8.099124  224.236259  19909.541732     9.275884         NaN    418.606213   \n",
              "3  8.316766  214.373394  22018.417441     8.059332  356.886136    363.266516   \n",
              "4  9.092223  181.101509  17978.986339     6.546600  310.135738    398.410813   \n",
              "\n",
              "   Organic_carbon  Trihalomethanes  Turbidity  Potability  \n",
              "0       10.379783        86.990970   2.963135           0  \n",
              "1       15.180013        56.329076   4.500656           0  \n",
              "2       16.868637        66.420093   3.055934           0  \n",
              "3       18.436524       100.341674   4.628771           0  \n",
              "4       11.558279        31.997993   4.075075           0  "
            ],
            "text/html": [
              "\n",
              "  <div id=\"df-627dcc9c-9fe4-4681-940c-e1fa00bc6c0e\">\n",
              "    <div class=\"colab-df-container\">\n",
              "      <div>\n",
              "<style scoped>\n",
              "    .dataframe tbody tr th:only-of-type {\n",
              "        vertical-align: middle;\n",
              "    }\n",
              "\n",
              "    .dataframe tbody tr th {\n",
              "        vertical-align: top;\n",
              "    }\n",
              "\n",
              "    .dataframe thead th {\n",
              "        text-align: right;\n",
              "    }\n",
              "</style>\n",
              "<table border=\"1\" class=\"dataframe\">\n",
              "  <thead>\n",
              "    <tr style=\"text-align: right;\">\n",
              "      <th></th>\n",
              "      <th>ph</th>\n",
              "      <th>Hardness</th>\n",
              "      <th>Solids</th>\n",
              "      <th>Chloramines</th>\n",
              "      <th>Sulfate</th>\n",
              "      <th>Conductivity</th>\n",
              "      <th>Organic_carbon</th>\n",
              "      <th>Trihalomethanes</th>\n",
              "      <th>Turbidity</th>\n",
              "      <th>Potability</th>\n",
              "    </tr>\n",
              "  </thead>\n",
              "  <tbody>\n",
              "    <tr>\n",
              "      <th>0</th>\n",
              "      <td>NaN</td>\n",
              "      <td>204.890455</td>\n",
              "      <td>20791.318981</td>\n",
              "      <td>7.300212</td>\n",
              "      <td>368.516441</td>\n",
              "      <td>564.308654</td>\n",
              "      <td>10.379783</td>\n",
              "      <td>86.990970</td>\n",
              "      <td>2.963135</td>\n",
              "      <td>0</td>\n",
              "    </tr>\n",
              "    <tr>\n",
              "      <th>1</th>\n",
              "      <td>3.716080</td>\n",
              "      <td>129.422921</td>\n",
              "      <td>18630.057858</td>\n",
              "      <td>6.635246</td>\n",
              "      <td>NaN</td>\n",
              "      <td>592.885359</td>\n",
              "      <td>15.180013</td>\n",
              "      <td>56.329076</td>\n",
              "      <td>4.500656</td>\n",
              "      <td>0</td>\n",
              "    </tr>\n",
              "    <tr>\n",
              "      <th>2</th>\n",
              "      <td>8.099124</td>\n",
              "      <td>224.236259</td>\n",
              "      <td>19909.541732</td>\n",
              "      <td>9.275884</td>\n",
              "      <td>NaN</td>\n",
              "      <td>418.606213</td>\n",
              "      <td>16.868637</td>\n",
              "      <td>66.420093</td>\n",
              "      <td>3.055934</td>\n",
              "      <td>0</td>\n",
              "    </tr>\n",
              "    <tr>\n",
              "      <th>3</th>\n",
              "      <td>8.316766</td>\n",
              "      <td>214.373394</td>\n",
              "      <td>22018.417441</td>\n",
              "      <td>8.059332</td>\n",
              "      <td>356.886136</td>\n",
              "      <td>363.266516</td>\n",
              "      <td>18.436524</td>\n",
              "      <td>100.341674</td>\n",
              "      <td>4.628771</td>\n",
              "      <td>0</td>\n",
              "    </tr>\n",
              "    <tr>\n",
              "      <th>4</th>\n",
              "      <td>9.092223</td>\n",
              "      <td>181.101509</td>\n",
              "      <td>17978.986339</td>\n",
              "      <td>6.546600</td>\n",
              "      <td>310.135738</td>\n",
              "      <td>398.410813</td>\n",
              "      <td>11.558279</td>\n",
              "      <td>31.997993</td>\n",
              "      <td>4.075075</td>\n",
              "      <td>0</td>\n",
              "    </tr>\n",
              "  </tbody>\n",
              "</table>\n",
              "</div>\n",
              "      <button class=\"colab-df-convert\" onclick=\"convertToInteractive('df-627dcc9c-9fe4-4681-940c-e1fa00bc6c0e')\"\n",
              "              title=\"Convert this dataframe to an interactive table.\"\n",
              "              style=\"display:none;\">\n",
              "        \n",
              "  <svg xmlns=\"http://www.w3.org/2000/svg\" height=\"24px\"viewBox=\"0 0 24 24\"\n",
              "       width=\"24px\">\n",
              "    <path d=\"M0 0h24v24H0V0z\" fill=\"none\"/>\n",
              "    <path d=\"M18.56 5.44l.94 2.06.94-2.06 2.06-.94-2.06-.94-.94-2.06-.94 2.06-2.06.94zm-11 1L8.5 8.5l.94-2.06 2.06-.94-2.06-.94L8.5 2.5l-.94 2.06-2.06.94zm10 10l.94 2.06.94-2.06 2.06-.94-2.06-.94-.94-2.06-.94 2.06-2.06.94z\"/><path d=\"M17.41 7.96l-1.37-1.37c-.4-.4-.92-.59-1.43-.59-.52 0-1.04.2-1.43.59L10.3 9.45l-7.72 7.72c-.78.78-.78 2.05 0 2.83L4 21.41c.39.39.9.59 1.41.59.51 0 1.02-.2 1.41-.59l7.78-7.78 2.81-2.81c.8-.78.8-2.07 0-2.86zM5.41 20L4 18.59l7.72-7.72 1.47 1.35L5.41 20z\"/>\n",
              "  </svg>\n",
              "      </button>\n",
              "      \n",
              "  <style>\n",
              "    .colab-df-container {\n",
              "      display:flex;\n",
              "      flex-wrap:wrap;\n",
              "      gap: 12px;\n",
              "    }\n",
              "\n",
              "    .colab-df-convert {\n",
              "      background-color: #E8F0FE;\n",
              "      border: none;\n",
              "      border-radius: 50%;\n",
              "      cursor: pointer;\n",
              "      display: none;\n",
              "      fill: #1967D2;\n",
              "      height: 32px;\n",
              "      padding: 0 0 0 0;\n",
              "      width: 32px;\n",
              "    }\n",
              "\n",
              "    .colab-df-convert:hover {\n",
              "      background-color: #E2EBFA;\n",
              "      box-shadow: 0px 1px 2px rgba(60, 64, 67, 0.3), 0px 1px 3px 1px rgba(60, 64, 67, 0.15);\n",
              "      fill: #174EA6;\n",
              "    }\n",
              "\n",
              "    [theme=dark] .colab-df-convert {\n",
              "      background-color: #3B4455;\n",
              "      fill: #D2E3FC;\n",
              "    }\n",
              "\n",
              "    [theme=dark] .colab-df-convert:hover {\n",
              "      background-color: #434B5C;\n",
              "      box-shadow: 0px 1px 3px 1px rgba(0, 0, 0, 0.15);\n",
              "      filter: drop-shadow(0px 1px 2px rgba(0, 0, 0, 0.3));\n",
              "      fill: #FFFFFF;\n",
              "    }\n",
              "  </style>\n",
              "\n",
              "      <script>\n",
              "        const buttonEl =\n",
              "          document.querySelector('#df-627dcc9c-9fe4-4681-940c-e1fa00bc6c0e button.colab-df-convert');\n",
              "        buttonEl.style.display =\n",
              "          google.colab.kernel.accessAllowed ? 'block' : 'none';\n",
              "\n",
              "        async function convertToInteractive(key) {\n",
              "          const element = document.querySelector('#df-627dcc9c-9fe4-4681-940c-e1fa00bc6c0e');\n",
              "          const dataTable =\n",
              "            await google.colab.kernel.invokeFunction('convertToInteractive',\n",
              "                                                     [key], {});\n",
              "          if (!dataTable) return;\n",
              "\n",
              "          const docLinkHtml = 'Like what you see? Visit the ' +\n",
              "            '<a target=\"_blank\" href=https://colab.research.google.com/notebooks/data_table.ipynb>data table notebook</a>'\n",
              "            + ' to learn more about interactive tables.';\n",
              "          element.innerHTML = '';\n",
              "          dataTable['output_type'] = 'display_data';\n",
              "          await google.colab.output.renderOutput(dataTable, element);\n",
              "          const docLink = document.createElement('div');\n",
              "          docLink.innerHTML = docLinkHtml;\n",
              "          element.appendChild(docLink);\n",
              "        }\n",
              "      </script>\n",
              "    </div>\n",
              "  </div>\n",
              "  "
            ]
          },
          "metadata": {},
          "execution_count": 3
        }
      ]
    },
    {
      "cell_type": "code",
      "source": [
        "df.shape"
      ],
      "metadata": {
        "colab": {
          "base_uri": "https://localhost:8080/"
        },
        "id": "3y6HEc8OQaM_",
        "outputId": "04382b94-d370-4e96-f569-9c2abb3c283d"
      },
      "execution_count": 4,
      "outputs": [
        {
          "output_type": "execute_result",
          "data": {
            "text/plain": [
              "(3276, 10)"
            ]
          },
          "metadata": {},
          "execution_count": 4
        }
      ]
    },
    {
      "cell_type": "code",
      "source": [
        "df.info()"
      ],
      "metadata": {
        "colab": {
          "base_uri": "https://localhost:8080/"
        },
        "id": "kdVwPzLkQrFj",
        "outputId": "a7a21c74-f9d0-45da-d834-84549deb1b15"
      },
      "execution_count": 5,
      "outputs": [
        {
          "output_type": "stream",
          "name": "stdout",
          "text": [
            "<class 'pandas.core.frame.DataFrame'>\n",
            "RangeIndex: 3276 entries, 0 to 3275\n",
            "Data columns (total 10 columns):\n",
            " #   Column           Non-Null Count  Dtype  \n",
            "---  ------           --------------  -----  \n",
            " 0   ph               2785 non-null   float64\n",
            " 1   Hardness         3276 non-null   float64\n",
            " 2   Solids           3276 non-null   float64\n",
            " 3   Chloramines      3276 non-null   float64\n",
            " 4   Sulfate          2495 non-null   float64\n",
            " 5   Conductivity     3276 non-null   float64\n",
            " 6   Organic_carbon   3276 non-null   float64\n",
            " 7   Trihalomethanes  3114 non-null   float64\n",
            " 8   Turbidity        3276 non-null   float64\n",
            " 9   Potability       3276 non-null   int64  \n",
            "dtypes: float64(9), int64(1)\n",
            "memory usage: 256.1 KB\n"
          ]
        }
      ]
    },
    {
      "cell_type": "code",
      "source": [
        "df.isnull().sum()"
      ],
      "metadata": {
        "colab": {
          "base_uri": "https://localhost:8080/"
        },
        "id": "Pnys-1J2Qs3e",
        "outputId": "4b562dd5-42fc-4be9-d650-a25fbf338975"
      },
      "execution_count": 6,
      "outputs": [
        {
          "output_type": "execute_result",
          "data": {
            "text/plain": [
              "ph                 491\n",
              "Hardness             0\n",
              "Solids               0\n",
              "Chloramines          0\n",
              "Sulfate            781\n",
              "Conductivity         0\n",
              "Organic_carbon       0\n",
              "Trihalomethanes    162\n",
              "Turbidity            0\n",
              "Potability           0\n",
              "dtype: int64"
            ]
          },
          "metadata": {},
          "execution_count": 6
        }
      ]
    },
    {
      "cell_type": "code",
      "source": [
        "#replace missing cells with mean\n",
        "\n",
        "df.fillna(df.mean(numeric_only=True).round(1), inplace=True)"
      ],
      "metadata": {
        "id": "xUXYq1dCQ26g"
      },
      "execution_count": 7,
      "outputs": []
    },
    {
      "cell_type": "code",
      "source": [
        "df.isnull().sum()"
      ],
      "metadata": {
        "colab": {
          "base_uri": "https://localhost:8080/"
        },
        "id": "EsimS4bJRLiL",
        "outputId": "935a19a3-142e-467a-cd99-b0ce6aedd935"
      },
      "execution_count": 8,
      "outputs": [
        {
          "output_type": "execute_result",
          "data": {
            "text/plain": [
              "ph                 0\n",
              "Hardness           0\n",
              "Solids             0\n",
              "Chloramines        0\n",
              "Sulfate            0\n",
              "Conductivity       0\n",
              "Organic_carbon     0\n",
              "Trihalomethanes    0\n",
              "Turbidity          0\n",
              "Potability         0\n",
              "dtype: int64"
            ]
          },
          "metadata": {},
          "execution_count": 8
        }
      ]
    },
    {
      "cell_type": "code",
      "source": [
        "df.describe()"
      ],
      "metadata": {
        "colab": {
          "base_uri": "https://localhost:8080/",
          "height": 300
        },
        "id": "6Bvsc9arTA7N",
        "outputId": "4079e10e-cb29-41bf-d069-23da2cc524dc"
      },
      "execution_count": 9,
      "outputs": [
        {
          "output_type": "execute_result",
          "data": {
            "text/plain": [
              "                ph     Hardness        Solids  Chloramines      Sulfate  \\\n",
              "count  3276.000000  3276.000000   3276.000000  3276.000000  3276.000000   \n",
              "mean      7.083673   196.369496  22014.092526     7.122277   333.781551   \n",
              "std       1.469972    32.879761   8768.570828     1.583085    36.142614   \n",
              "min       0.000000    47.432000    320.942611     0.352000   129.000000   \n",
              "25%       6.277673   176.850538  15666.690297     6.127421   317.094638   \n",
              "50%       7.100000   196.967627  20927.833607     7.130299   333.800000   \n",
              "75%       7.870050   216.667456  27332.762127     8.114887   350.385756   \n",
              "max      14.000000   323.124000  61227.196008    13.127000   481.030642   \n",
              "\n",
              "       Conductivity  Organic_carbon  Trihalomethanes    Turbidity   Potability  \n",
              "count   3276.000000     3276.000000      3276.000000  3276.000000  3276.000000  \n",
              "mean     426.205111       14.284970        66.396476     3.966786     0.390110  \n",
              "std       80.824064        3.308162        15.769881     0.780382     0.487849  \n",
              "min      181.483754        2.200000         0.738000     1.450000     0.000000  \n",
              "25%      365.734414       12.065801        56.647656     3.439711     0.000000  \n",
              "50%      421.884968       14.218338        66.400000     3.955028     0.000000  \n",
              "75%      481.792304       16.557652        76.666609     4.500320     1.000000  \n",
              "max      753.342620       28.300000       124.000000     6.739000     1.000000  "
            ],
            "text/html": [
              "\n",
              "  <div id=\"df-0acc5232-5232-44b7-9de6-43478bfa3d18\">\n",
              "    <div class=\"colab-df-container\">\n",
              "      <div>\n",
              "<style scoped>\n",
              "    .dataframe tbody tr th:only-of-type {\n",
              "        vertical-align: middle;\n",
              "    }\n",
              "\n",
              "    .dataframe tbody tr th {\n",
              "        vertical-align: top;\n",
              "    }\n",
              "\n",
              "    .dataframe thead th {\n",
              "        text-align: right;\n",
              "    }\n",
              "</style>\n",
              "<table border=\"1\" class=\"dataframe\">\n",
              "  <thead>\n",
              "    <tr style=\"text-align: right;\">\n",
              "      <th></th>\n",
              "      <th>ph</th>\n",
              "      <th>Hardness</th>\n",
              "      <th>Solids</th>\n",
              "      <th>Chloramines</th>\n",
              "      <th>Sulfate</th>\n",
              "      <th>Conductivity</th>\n",
              "      <th>Organic_carbon</th>\n",
              "      <th>Trihalomethanes</th>\n",
              "      <th>Turbidity</th>\n",
              "      <th>Potability</th>\n",
              "    </tr>\n",
              "  </thead>\n",
              "  <tbody>\n",
              "    <tr>\n",
              "      <th>count</th>\n",
              "      <td>3276.000000</td>\n",
              "      <td>3276.000000</td>\n",
              "      <td>3276.000000</td>\n",
              "      <td>3276.000000</td>\n",
              "      <td>3276.000000</td>\n",
              "      <td>3276.000000</td>\n",
              "      <td>3276.000000</td>\n",
              "      <td>3276.000000</td>\n",
              "      <td>3276.000000</td>\n",
              "      <td>3276.000000</td>\n",
              "    </tr>\n",
              "    <tr>\n",
              "      <th>mean</th>\n",
              "      <td>7.083673</td>\n",
              "      <td>196.369496</td>\n",
              "      <td>22014.092526</td>\n",
              "      <td>7.122277</td>\n",
              "      <td>333.781551</td>\n",
              "      <td>426.205111</td>\n",
              "      <td>14.284970</td>\n",
              "      <td>66.396476</td>\n",
              "      <td>3.966786</td>\n",
              "      <td>0.390110</td>\n",
              "    </tr>\n",
              "    <tr>\n",
              "      <th>std</th>\n",
              "      <td>1.469972</td>\n",
              "      <td>32.879761</td>\n",
              "      <td>8768.570828</td>\n",
              "      <td>1.583085</td>\n",
              "      <td>36.142614</td>\n",
              "      <td>80.824064</td>\n",
              "      <td>3.308162</td>\n",
              "      <td>15.769881</td>\n",
              "      <td>0.780382</td>\n",
              "      <td>0.487849</td>\n",
              "    </tr>\n",
              "    <tr>\n",
              "      <th>min</th>\n",
              "      <td>0.000000</td>\n",
              "      <td>47.432000</td>\n",
              "      <td>320.942611</td>\n",
              "      <td>0.352000</td>\n",
              "      <td>129.000000</td>\n",
              "      <td>181.483754</td>\n",
              "      <td>2.200000</td>\n",
              "      <td>0.738000</td>\n",
              "      <td>1.450000</td>\n",
              "      <td>0.000000</td>\n",
              "    </tr>\n",
              "    <tr>\n",
              "      <th>25%</th>\n",
              "      <td>6.277673</td>\n",
              "      <td>176.850538</td>\n",
              "      <td>15666.690297</td>\n",
              "      <td>6.127421</td>\n",
              "      <td>317.094638</td>\n",
              "      <td>365.734414</td>\n",
              "      <td>12.065801</td>\n",
              "      <td>56.647656</td>\n",
              "      <td>3.439711</td>\n",
              "      <td>0.000000</td>\n",
              "    </tr>\n",
              "    <tr>\n",
              "      <th>50%</th>\n",
              "      <td>7.100000</td>\n",
              "      <td>196.967627</td>\n",
              "      <td>20927.833607</td>\n",
              "      <td>7.130299</td>\n",
              "      <td>333.800000</td>\n",
              "      <td>421.884968</td>\n",
              "      <td>14.218338</td>\n",
              "      <td>66.400000</td>\n",
              "      <td>3.955028</td>\n",
              "      <td>0.000000</td>\n",
              "    </tr>\n",
              "    <tr>\n",
              "      <th>75%</th>\n",
              "      <td>7.870050</td>\n",
              "      <td>216.667456</td>\n",
              "      <td>27332.762127</td>\n",
              "      <td>8.114887</td>\n",
              "      <td>350.385756</td>\n",
              "      <td>481.792304</td>\n",
              "      <td>16.557652</td>\n",
              "      <td>76.666609</td>\n",
              "      <td>4.500320</td>\n",
              "      <td>1.000000</td>\n",
              "    </tr>\n",
              "    <tr>\n",
              "      <th>max</th>\n",
              "      <td>14.000000</td>\n",
              "      <td>323.124000</td>\n",
              "      <td>61227.196008</td>\n",
              "      <td>13.127000</td>\n",
              "      <td>481.030642</td>\n",
              "      <td>753.342620</td>\n",
              "      <td>28.300000</td>\n",
              "      <td>124.000000</td>\n",
              "      <td>6.739000</td>\n",
              "      <td>1.000000</td>\n",
              "    </tr>\n",
              "  </tbody>\n",
              "</table>\n",
              "</div>\n",
              "      <button class=\"colab-df-convert\" onclick=\"convertToInteractive('df-0acc5232-5232-44b7-9de6-43478bfa3d18')\"\n",
              "              title=\"Convert this dataframe to an interactive table.\"\n",
              "              style=\"display:none;\">\n",
              "        \n",
              "  <svg xmlns=\"http://www.w3.org/2000/svg\" height=\"24px\"viewBox=\"0 0 24 24\"\n",
              "       width=\"24px\">\n",
              "    <path d=\"M0 0h24v24H0V0z\" fill=\"none\"/>\n",
              "    <path d=\"M18.56 5.44l.94 2.06.94-2.06 2.06-.94-2.06-.94-.94-2.06-.94 2.06-2.06.94zm-11 1L8.5 8.5l.94-2.06 2.06-.94-2.06-.94L8.5 2.5l-.94 2.06-2.06.94zm10 10l.94 2.06.94-2.06 2.06-.94-2.06-.94-.94-2.06-.94 2.06-2.06.94z\"/><path d=\"M17.41 7.96l-1.37-1.37c-.4-.4-.92-.59-1.43-.59-.52 0-1.04.2-1.43.59L10.3 9.45l-7.72 7.72c-.78.78-.78 2.05 0 2.83L4 21.41c.39.39.9.59 1.41.59.51 0 1.02-.2 1.41-.59l7.78-7.78 2.81-2.81c.8-.78.8-2.07 0-2.86zM5.41 20L4 18.59l7.72-7.72 1.47 1.35L5.41 20z\"/>\n",
              "  </svg>\n",
              "      </button>\n",
              "      \n",
              "  <style>\n",
              "    .colab-df-container {\n",
              "      display:flex;\n",
              "      flex-wrap:wrap;\n",
              "      gap: 12px;\n",
              "    }\n",
              "\n",
              "    .colab-df-convert {\n",
              "      background-color: #E8F0FE;\n",
              "      border: none;\n",
              "      border-radius: 50%;\n",
              "      cursor: pointer;\n",
              "      display: none;\n",
              "      fill: #1967D2;\n",
              "      height: 32px;\n",
              "      padding: 0 0 0 0;\n",
              "      width: 32px;\n",
              "    }\n",
              "\n",
              "    .colab-df-convert:hover {\n",
              "      background-color: #E2EBFA;\n",
              "      box-shadow: 0px 1px 2px rgba(60, 64, 67, 0.3), 0px 1px 3px 1px rgba(60, 64, 67, 0.15);\n",
              "      fill: #174EA6;\n",
              "    }\n",
              "\n",
              "    [theme=dark] .colab-df-convert {\n",
              "      background-color: #3B4455;\n",
              "      fill: #D2E3FC;\n",
              "    }\n",
              "\n",
              "    [theme=dark] .colab-df-convert:hover {\n",
              "      background-color: #434B5C;\n",
              "      box-shadow: 0px 1px 3px 1px rgba(0, 0, 0, 0.15);\n",
              "      filter: drop-shadow(0px 1px 2px rgba(0, 0, 0, 0.3));\n",
              "      fill: #FFFFFF;\n",
              "    }\n",
              "  </style>\n",
              "\n",
              "      <script>\n",
              "        const buttonEl =\n",
              "          document.querySelector('#df-0acc5232-5232-44b7-9de6-43478bfa3d18 button.colab-df-convert');\n",
              "        buttonEl.style.display =\n",
              "          google.colab.kernel.accessAllowed ? 'block' : 'none';\n",
              "\n",
              "        async function convertToInteractive(key) {\n",
              "          const element = document.querySelector('#df-0acc5232-5232-44b7-9de6-43478bfa3d18');\n",
              "          const dataTable =\n",
              "            await google.colab.kernel.invokeFunction('convertToInteractive',\n",
              "                                                     [key], {});\n",
              "          if (!dataTable) return;\n",
              "\n",
              "          const docLinkHtml = 'Like what you see? Visit the ' +\n",
              "            '<a target=\"_blank\" href=https://colab.research.google.com/notebooks/data_table.ipynb>data table notebook</a>'\n",
              "            + ' to learn more about interactive tables.';\n",
              "          element.innerHTML = '';\n",
              "          dataTable['output_type'] = 'display_data';\n",
              "          await google.colab.output.renderOutput(dataTable, element);\n",
              "          const docLink = document.createElement('div');\n",
              "          docLink.innerHTML = docLinkHtml;\n",
              "          element.appendChild(docLink);\n",
              "        }\n",
              "      </script>\n",
              "    </div>\n",
              "  </div>\n",
              "  "
            ]
          },
          "metadata": {},
          "execution_count": 9
        }
      ]
    },
    {
      "cell_type": "markdown",
      "source": [
        "### **Data Visualization**"
      ],
      "metadata": {
        "id": "Km8pMkz48BpB"
      }
    },
    {
      "cell_type": "code",
      "source": [
        "df.groupby('Potability').count()"
      ],
      "metadata": {
        "colab": {
          "base_uri": "https://localhost:8080/",
          "height": 143
        },
        "id": "3JAe5wjLUTV5",
        "outputId": "fe3682ad-77f6-40db-e7de-5aa4a0d6a17c"
      },
      "execution_count": 10,
      "outputs": [
        {
          "output_type": "execute_result",
          "data": {
            "text/plain": [
              "              ph  Hardness  Solids  Chloramines  Sulfate  Conductivity  \\\n",
              "Potability                                                               \n",
              "0           1998      1998    1998         1998     1998          1998   \n",
              "1           1278      1278    1278         1278     1278          1278   \n",
              "\n",
              "            Organic_carbon  Trihalomethanes  Turbidity  \n",
              "Potability                                              \n",
              "0                     1998             1998       1998  \n",
              "1                     1278             1278       1278  "
            ],
            "text/html": [
              "\n",
              "  <div id=\"df-436ebf64-20e9-4d2c-9ebb-ddba25bfcc8d\">\n",
              "    <div class=\"colab-df-container\">\n",
              "      <div>\n",
              "<style scoped>\n",
              "    .dataframe tbody tr th:only-of-type {\n",
              "        vertical-align: middle;\n",
              "    }\n",
              "\n",
              "    .dataframe tbody tr th {\n",
              "        vertical-align: top;\n",
              "    }\n",
              "\n",
              "    .dataframe thead th {\n",
              "        text-align: right;\n",
              "    }\n",
              "</style>\n",
              "<table border=\"1\" class=\"dataframe\">\n",
              "  <thead>\n",
              "    <tr style=\"text-align: right;\">\n",
              "      <th></th>\n",
              "      <th>ph</th>\n",
              "      <th>Hardness</th>\n",
              "      <th>Solids</th>\n",
              "      <th>Chloramines</th>\n",
              "      <th>Sulfate</th>\n",
              "      <th>Conductivity</th>\n",
              "      <th>Organic_carbon</th>\n",
              "      <th>Trihalomethanes</th>\n",
              "      <th>Turbidity</th>\n",
              "    </tr>\n",
              "    <tr>\n",
              "      <th>Potability</th>\n",
              "      <th></th>\n",
              "      <th></th>\n",
              "      <th></th>\n",
              "      <th></th>\n",
              "      <th></th>\n",
              "      <th></th>\n",
              "      <th></th>\n",
              "      <th></th>\n",
              "      <th></th>\n",
              "    </tr>\n",
              "  </thead>\n",
              "  <tbody>\n",
              "    <tr>\n",
              "      <th>0</th>\n",
              "      <td>1998</td>\n",
              "      <td>1998</td>\n",
              "      <td>1998</td>\n",
              "      <td>1998</td>\n",
              "      <td>1998</td>\n",
              "      <td>1998</td>\n",
              "      <td>1998</td>\n",
              "      <td>1998</td>\n",
              "      <td>1998</td>\n",
              "    </tr>\n",
              "    <tr>\n",
              "      <th>1</th>\n",
              "      <td>1278</td>\n",
              "      <td>1278</td>\n",
              "      <td>1278</td>\n",
              "      <td>1278</td>\n",
              "      <td>1278</td>\n",
              "      <td>1278</td>\n",
              "      <td>1278</td>\n",
              "      <td>1278</td>\n",
              "      <td>1278</td>\n",
              "    </tr>\n",
              "  </tbody>\n",
              "</table>\n",
              "</div>\n",
              "      <button class=\"colab-df-convert\" onclick=\"convertToInteractive('df-436ebf64-20e9-4d2c-9ebb-ddba25bfcc8d')\"\n",
              "              title=\"Convert this dataframe to an interactive table.\"\n",
              "              style=\"display:none;\">\n",
              "        \n",
              "  <svg xmlns=\"http://www.w3.org/2000/svg\" height=\"24px\"viewBox=\"0 0 24 24\"\n",
              "       width=\"24px\">\n",
              "    <path d=\"M0 0h24v24H0V0z\" fill=\"none\"/>\n",
              "    <path d=\"M18.56 5.44l.94 2.06.94-2.06 2.06-.94-2.06-.94-.94-2.06-.94 2.06-2.06.94zm-11 1L8.5 8.5l.94-2.06 2.06-.94-2.06-.94L8.5 2.5l-.94 2.06-2.06.94zm10 10l.94 2.06.94-2.06 2.06-.94-2.06-.94-.94-2.06-.94 2.06-2.06.94z\"/><path d=\"M17.41 7.96l-1.37-1.37c-.4-.4-.92-.59-1.43-.59-.52 0-1.04.2-1.43.59L10.3 9.45l-7.72 7.72c-.78.78-.78 2.05 0 2.83L4 21.41c.39.39.9.59 1.41.59.51 0 1.02-.2 1.41-.59l7.78-7.78 2.81-2.81c.8-.78.8-2.07 0-2.86zM5.41 20L4 18.59l7.72-7.72 1.47 1.35L5.41 20z\"/>\n",
              "  </svg>\n",
              "      </button>\n",
              "      \n",
              "  <style>\n",
              "    .colab-df-container {\n",
              "      display:flex;\n",
              "      flex-wrap:wrap;\n",
              "      gap: 12px;\n",
              "    }\n",
              "\n",
              "    .colab-df-convert {\n",
              "      background-color: #E8F0FE;\n",
              "      border: none;\n",
              "      border-radius: 50%;\n",
              "      cursor: pointer;\n",
              "      display: none;\n",
              "      fill: #1967D2;\n",
              "      height: 32px;\n",
              "      padding: 0 0 0 0;\n",
              "      width: 32px;\n",
              "    }\n",
              "\n",
              "    .colab-df-convert:hover {\n",
              "      background-color: #E2EBFA;\n",
              "      box-shadow: 0px 1px 2px rgba(60, 64, 67, 0.3), 0px 1px 3px 1px rgba(60, 64, 67, 0.15);\n",
              "      fill: #174EA6;\n",
              "    }\n",
              "\n",
              "    [theme=dark] .colab-df-convert {\n",
              "      background-color: #3B4455;\n",
              "      fill: #D2E3FC;\n",
              "    }\n",
              "\n",
              "    [theme=dark] .colab-df-convert:hover {\n",
              "      background-color: #434B5C;\n",
              "      box-shadow: 0px 1px 3px 1px rgba(0, 0, 0, 0.15);\n",
              "      filter: drop-shadow(0px 1px 2px rgba(0, 0, 0, 0.3));\n",
              "      fill: #FFFFFF;\n",
              "    }\n",
              "  </style>\n",
              "\n",
              "      <script>\n",
              "        const buttonEl =\n",
              "          document.querySelector('#df-436ebf64-20e9-4d2c-9ebb-ddba25bfcc8d button.colab-df-convert');\n",
              "        buttonEl.style.display =\n",
              "          google.colab.kernel.accessAllowed ? 'block' : 'none';\n",
              "\n",
              "        async function convertToInteractive(key) {\n",
              "          const element = document.querySelector('#df-436ebf64-20e9-4d2c-9ebb-ddba25bfcc8d');\n",
              "          const dataTable =\n",
              "            await google.colab.kernel.invokeFunction('convertToInteractive',\n",
              "                                                     [key], {});\n",
              "          if (!dataTable) return;\n",
              "\n",
              "          const docLinkHtml = 'Like what you see? Visit the ' +\n",
              "            '<a target=\"_blank\" href=https://colab.research.google.com/notebooks/data_table.ipynb>data table notebook</a>'\n",
              "            + ' to learn more about interactive tables.';\n",
              "          element.innerHTML = '';\n",
              "          dataTable['output_type'] = 'display_data';\n",
              "          await google.colab.output.renderOutput(dataTable, element);\n",
              "          const docLink = document.createElement('div');\n",
              "          docLink.innerHTML = docLinkHtml;\n",
              "          element.appendChild(docLink);\n",
              "        }\n",
              "      </script>\n",
              "    </div>\n",
              "  </div>\n",
              "  "
            ]
          },
          "metadata": {},
          "execution_count": 10
        }
      ]
    },
    {
      "cell_type": "code",
      "source": [
        "#distribution plot\n",
        "\n",
        "plt.figure(figsize=(6,6))\n",
        "sns.set_theme(style=\"darkgrid\")\n",
        "sns.countplot(x = df['Potability'])\n",
        "plt.title('Distribution of potability')\n",
        "\n",
        "plt.show()"
      ],
      "metadata": {
        "colab": {
          "base_uri": "https://localhost:8080/",
          "height": 573
        },
        "id": "9x3FKr5bVH0c",
        "outputId": "354cb62e-6a41-4717-ef41-18c920160376"
      },
      "execution_count": 11,
      "outputs": [
        {
          "output_type": "display_data",
          "data": {
            "text/plain": [
              "<Figure size 600x600 with 1 Axes>"
            ],
            "image/png": "[encoded data removed]"
          },
          "metadata": {}
        }
      ]
    },
    {
      "cell_type": "code",
      "source": [
        "df.hist(bins=50,figsize=(6,6))\n",
        "plt.show()"
      ],
      "metadata": {
        "colab": {
          "base_uri": "https://localhost:8080/",
          "height": 549
        },
        "id": "zCd7z4VkV11j",
        "outputId": "baa49ee4-0e97-45f1-9baa-a42c06595594"
      },
      "execution_count": 12,
      "outputs": [
        {
          "output_type": "display_data",
          "data": {
            "text/plain": [
              "<Figure size 600x600 with 12 Axes>"
            ],
            "image/png": "[encoded data removed]"
          },
          "metadata": {}
        }
      ]
    },
    {
      "cell_type": "markdown",
      "source": [
        "Selecting some features to train our model"
      ],
      "metadata": {
        "id": "ugs5cbmDV7ip"
      }
    },
    {
      "cell_type": "markdown",
      "source": [
        "### **Exploratory Data Analysis**"
      ],
      "metadata": {
        "id": "5FauMBUB8MAO"
      }
    },
    {
      "cell_type": "code",
      "source": [
        "df_copy = df.copy()"
      ],
      "metadata": {
        "id": "OF92GaZsXgMb"
      },
      "execution_count": 13,
      "outputs": []
    },
    {
      "cell_type": "code",
      "source": [
        "print(df_copy.columns)"
      ],
      "metadata": {
        "colab": {
          "base_uri": "https://localhost:8080/"
        },
        "id": "deYHx_MQYF4e",
        "outputId": "b90b5f24-4aac-42d9-cb7c-f91080f087a4"
      },
      "execution_count": 14,
      "outputs": [
        {
          "output_type": "stream",
          "name": "stdout",
          "text": [
            "Index(['ph', 'Hardness', 'Solids', 'Chloramines', 'Sulfate', 'Conductivity',\n",
            "       'Organic_carbon', 'Trihalomethanes', 'Turbidity', 'Potability'],\n",
            "      dtype='object')\n"
          ]
        }
      ]
    },
    {
      "cell_type": "markdown",
      "source": [
        "**ML Model**"
      ],
      "metadata": {
        "id": "8tZsACiV8WDF"
      }
    },
    {
      "cell_type": "code",
      "source": [
        "from sklearn.model_selection import train_test_split\n",
        "from sklearn.svm import SVC\n",
        "from sklearn.metrics import accuracy_score\n",
        "\n",
        "y = df_copy['Potability']\n",
        "df_copy.drop('Potability',inplace= True,axis=1) \n",
        "X = df_copy\n",
        "\n",
        "#spliting the dataset\n",
        "X_train,X_test,y_train,y_test = train_test_split(X, y, test_size=0.2, random_state=42)\n",
        "\n",
        "#Create an SVM classifier object\n",
        "model = SVC(kernel='linear',C=1)\n",
        "\n",
        "#Train the SVM model\n",
        "model.fit(X_train, y_train)\n",
        "\n",
        "#Make predictions\n",
        "y_pred = model.predict(X_test)\n",
        "\n",
        "#check accuracy\n",
        "model.score(X_test,y_test)"
      ],
      "metadata": {
        "colab": {
          "base_uri": "https://localhost:8080/"
        },
        "id": "DK1dU9AQ12z0",
        "outputId": "39005012-1201-4a0c-afe7-267f56756825"
      },
      "execution_count": 15,
      "outputs": [
        {
          "output_type": "execute_result",
          "data": {
            "text/plain": [
              "0.6234756097560976"
            ]
          },
          "metadata": {},
          "execution_count": 15
        }
      ]
    },
    {
      "cell_type": "markdown",
      "source": [
        "The SVM model gives an accuracy of 0.62 on this dataset"
      ],
      "metadata": {
        "id": "Bz4InjdN8cCG"
      }
    },
    {
      "cell_type": "markdown",
      "source": [
        "**Using Tensorflow**"
      ],
      "metadata": {
        "id": "7ktD9LfI8mIH"
      }
    },
    {
      "cell_type": "code",
      "source": [
        "import tensorflow as tf\n",
        "from tensorflow.keras.models import Sequential\n",
        "from tensorflow.keras.layers import Dense"
      ],
      "metadata": {
        "id": "FtZHy1dI4j3t"
      },
      "execution_count": 16,
      "outputs": []
    },
    {
      "cell_type": "code",
      "source": [
        "models = Sequential()\n",
        "#input layer\n",
        "models.add(Dense(128,activation=\"relu\"))\n",
        "#hidden layer\n",
        "models.add(Dense(64,activation=\"relu\"))\n",
        "models.add(Dense(32,activation=\"relu\"))\n",
        "#output layer\n",
        "models.add(Dense(1,kernel_regularizer=tf.keras.regularizers.l2(0.01),activation = \"linear\"))"
      ],
      "metadata": {
        "id": "vsnQWz4S6KtX"
      },
      "execution_count": 18,
      "outputs": []
    },
    {
      "cell_type": "code",
      "source": [
        "#compile the model\n",
        "\n",
        "models.compile(optimizer='adam',loss='hinge',metrics=['accuracy'])"
      ],
      "metadata": {
        "id": "hKB742HC6VSI"
      },
      "execution_count": 20,
      "outputs": []
    },
    {
      "cell_type": "code",
      "source": [
        "#train the model\n",
        "\n",
        "models.fit(X_train, y_train, epochs = 100,verbose=1)"
      ],
      "metadata": {
        "colab": {
          "base_uri": "https://localhost:8080/"
        },
        "id": "xs_1zkcZ6gfI",
        "outputId": "eb461f80-e698-4400-8a65-5b3e60ad3797"
      },
      "execution_count": 21,
      "outputs": [
        {
          "output_type": "stream",
          "name": "stdout",
          "text": [
            "Epoch 1/100\n",
            "82/82 [==============================] - 2s 2ms/step - loss: 53.3071 - accuracy: 0.5363\n",
            "Epoch 2/100\n",
            "82/82 [==============================] - 0s 2ms/step - loss: 36.2550 - accuracy: 0.5206\n",
            "Epoch 3/100\n",
            "82/82 [==============================] - 0s 2ms/step - loss: 44.1278 - accuracy: 0.5237\n",
            "Epoch 4/100\n",
            "82/82 [==============================] - 0s 2ms/step - loss: 48.3835 - accuracy: 0.5168\n",
            "Epoch 5/100\n",
            "82/82 [==============================] - 0s 2ms/step - loss: 35.9094 - accuracy: 0.5256\n",
            "Epoch 6/100\n",
            "82/82 [==============================] - 0s 2ms/step - loss: 22.6165 - accuracy: 0.5416\n",
            "Epoch 7/100\n",
            "82/82 [==============================] - 0s 2ms/step - loss: 33.8089 - accuracy: 0.5374\n",
            "Epoch 8/100\n",
            "82/82 [==============================] - 0s 2ms/step - loss: 26.8351 - accuracy: 0.5164\n",
            "Epoch 9/100\n",
            "82/82 [==============================] - 0s 2ms/step - loss: 24.7846 - accuracy: 0.5347\n",
            "Epoch 10/100\n",
            "82/82 [==============================] - 0s 3ms/step - loss: 22.9233 - accuracy: 0.5218\n",
            "Epoch 11/100\n",
            "82/82 [==============================] - 0s 3ms/step - loss: 32.8904 - accuracy: 0.5275\n",
            "Epoch 12/100\n",
            "82/82 [==============================] - 0s 3ms/step - loss: 14.3195 - accuracy: 0.5378\n",
            "Epoch 13/100\n",
            "82/82 [==============================] - 0s 3ms/step - loss: 15.9315 - accuracy: 0.5252\n",
            "Epoch 14/100\n",
            "82/82 [==============================] - 0s 3ms/step - loss: 28.6144 - accuracy: 0.5279\n",
            "Epoch 15/100\n",
            "82/82 [==============================] - 0s 3ms/step - loss: 31.6803 - accuracy: 0.5042\n",
            "Epoch 16/100\n",
            "82/82 [==============================] - 0s 3ms/step - loss: 12.6864 - accuracy: 0.5294\n",
            "Epoch 17/100\n",
            "82/82 [==============================] - 0s 3ms/step - loss: 22.4816 - accuracy: 0.4966\n",
            "Epoch 18/100\n",
            "82/82 [==============================] - 0s 3ms/step - loss: 13.9222 - accuracy: 0.5374\n",
            "Epoch 19/100\n",
            "82/82 [==============================] - 0s 3ms/step - loss: 25.7325 - accuracy: 0.5195\n",
            "Epoch 20/100\n",
            "82/82 [==============================] - 0s 3ms/step - loss: 5.6867 - accuracy: 0.5458\n",
            "Epoch 21/100\n",
            "82/82 [==============================] - 0s 3ms/step - loss: 6.2871 - accuracy: 0.5313\n",
            "Epoch 22/100\n",
            "82/82 [==============================] - 0s 2ms/step - loss: 8.2334 - accuracy: 0.5340\n",
            "Epoch 23/100\n",
            "82/82 [==============================] - 0s 2ms/step - loss: 6.1275 - accuracy: 0.5332\n",
            "Epoch 24/100\n",
            "82/82 [==============================] - 0s 2ms/step - loss: 9.7182 - accuracy: 0.5260\n",
            "Epoch 25/100\n",
            "82/82 [==============================] - 0s 2ms/step - loss: 7.6458 - accuracy: 0.5416\n",
            "Epoch 26/100\n",
            "82/82 [==============================] - 0s 2ms/step - loss: 9.4370 - accuracy: 0.5500\n",
            "Epoch 27/100\n",
            "82/82 [==============================] - 0s 2ms/step - loss: 11.0757 - accuracy: 0.5290\n",
            "Epoch 28/100\n",
            "82/82 [==============================] - 0s 2ms/step - loss: 8.0712 - accuracy: 0.5267\n",
            "Epoch 29/100\n",
            "82/82 [==============================] - 0s 2ms/step - loss: 12.5117 - accuracy: 0.5103\n",
            "Epoch 30/100\n",
            "82/82 [==============================] - 0s 2ms/step - loss: 4.2618 - accuracy: 0.5412\n",
            "Epoch 31/100\n",
            "82/82 [==============================] - 0s 2ms/step - loss: 10.4272 - accuracy: 0.5248\n",
            "Epoch 32/100\n",
            "82/82 [==============================] - 0s 2ms/step - loss: 6.4537 - accuracy: 0.5416\n",
            "Epoch 33/100\n",
            "82/82 [==============================] - 0s 2ms/step - loss: 10.5055 - accuracy: 0.5214\n",
            "Epoch 34/100\n",
            "82/82 [==============================] - 0s 2ms/step - loss: 9.6072 - accuracy: 0.5153\n",
            "Epoch 35/100\n",
            "82/82 [==============================] - 0s 2ms/step - loss: 10.2425 - accuracy: 0.5214\n",
            "Epoch 36/100\n",
            "82/82 [==============================] - 0s 2ms/step - loss: 8.8570 - accuracy: 0.5309\n",
            "Epoch 37/100\n",
            "82/82 [==============================] - 0s 2ms/step - loss: 5.6431 - accuracy: 0.5183\n",
            "Epoch 38/100\n",
            "82/82 [==============================] - 0s 2ms/step - loss: 8.3022 - accuracy: 0.5389\n",
            "Epoch 39/100\n",
            "82/82 [==============================] - 0s 2ms/step - loss: 9.9618 - accuracy: 0.5164\n",
            "Epoch 40/100\n",
            "82/82 [==============================] - 0s 2ms/step - loss: 5.1424 - accuracy: 0.5244\n",
            "Epoch 41/100\n",
            "82/82 [==============================] - 0s 2ms/step - loss: 4.5821 - accuracy: 0.5233\n",
            "Epoch 42/100\n",
            "82/82 [==============================] - 0s 2ms/step - loss: 3.8426 - accuracy: 0.5176\n",
            "Epoch 43/100\n",
            "82/82 [==============================] - 0s 2ms/step - loss: 3.5526 - accuracy: 0.5252\n",
            "Epoch 44/100\n",
            "82/82 [==============================] - 0s 2ms/step - loss: 3.4179 - accuracy: 0.5244\n",
            "Epoch 45/100\n",
            "82/82 [==============================] - 0s 2ms/step - loss: 2.3198 - accuracy: 0.5321\n",
            "Epoch 46/100\n",
            "82/82 [==============================] - 0s 2ms/step - loss: 2.6658 - accuracy: 0.5489\n",
            "Epoch 47/100\n",
            "82/82 [==============================] - 0s 2ms/step - loss: 3.5025 - accuracy: 0.5248\n",
            "Epoch 48/100\n",
            "82/82 [==============================] - 0s 2ms/step - loss: 2.0024 - accuracy: 0.5412\n",
            "Epoch 49/100\n",
            "82/82 [==============================] - 0s 2ms/step - loss: 1.9582 - accuracy: 0.5508\n",
            "Epoch 50/100\n",
            "82/82 [==============================] - 0s 2ms/step - loss: 2.1552 - accuracy: 0.5313\n",
            "Epoch 51/100\n",
            "82/82 [==============================] - 0s 2ms/step - loss: 1.5880 - accuracy: 0.5702\n",
            "Epoch 52/100\n",
            "82/82 [==============================] - 0s 2ms/step - loss: 1.7471 - accuracy: 0.5603\n",
            "Epoch 53/100\n",
            "82/82 [==============================] - 0s 2ms/step - loss: 1.1609 - accuracy: 0.5782\n",
            "Epoch 54/100\n",
            "82/82 [==============================] - 0s 2ms/step - loss: 1.6987 - accuracy: 0.5546\n",
            "Epoch 55/100\n",
            "82/82 [==============================] - 0s 2ms/step - loss: 1.2379 - accuracy: 0.5779\n",
            "Epoch 56/100\n",
            "82/82 [==============================] - 0s 2ms/step - loss: 1.2753 - accuracy: 0.5763\n",
            "Epoch 57/100\n",
            "82/82 [==============================] - 0s 2ms/step - loss: 1.2196 - accuracy: 0.5698\n",
            "Epoch 58/100\n",
            "82/82 [==============================] - 0s 2ms/step - loss: 1.2239 - accuracy: 0.5752\n",
            "Epoch 59/100\n",
            "82/82 [==============================] - 0s 2ms/step - loss: 1.0147 - accuracy: 0.5847\n",
            "Epoch 60/100\n",
            "82/82 [==============================] - 0s 2ms/step - loss: 1.0798 - accuracy: 0.5725\n",
            "Epoch 61/100\n",
            "82/82 [==============================] - 0s 2ms/step - loss: 1.0124 - accuracy: 0.5809\n",
            "Epoch 62/100\n",
            "82/82 [==============================] - 0s 2ms/step - loss: 0.9828 - accuracy: 0.5924\n",
            "Epoch 63/100\n",
            "82/82 [==============================] - 0s 2ms/step - loss: 1.0492 - accuracy: 0.5844\n",
            "Epoch 64/100\n",
            "82/82 [==============================] - 0s 2ms/step - loss: 1.0277 - accuracy: 0.5725\n",
            "Epoch 65/100\n",
            "82/82 [==============================] - 0s 2ms/step - loss: 0.9409 - accuracy: 0.5920\n",
            "Epoch 66/100\n",
            "82/82 [==============================] - 0s 2ms/step - loss: 1.0204 - accuracy: 0.5813\n",
            "Epoch 67/100\n",
            "82/82 [==============================] - 0s 2ms/step - loss: 1.0361 - accuracy: 0.5775\n",
            "Epoch 68/100\n",
            "82/82 [==============================] - 0s 2ms/step - loss: 0.9473 - accuracy: 0.5981\n",
            "Epoch 69/100\n",
            "82/82 [==============================] - 0s 2ms/step - loss: 0.9060 - accuracy: 0.6023\n",
            "Epoch 70/100\n",
            "82/82 [==============================] - 0s 2ms/step - loss: 0.8924 - accuracy: 0.6050\n",
            "Epoch 71/100\n",
            "82/82 [==============================] - 0s 2ms/step - loss: 0.8586 - accuracy: 0.6073\n",
            "Epoch 72/100\n",
            "82/82 [==============================] - 0s 2ms/step - loss: 0.8646 - accuracy: 0.6084\n",
            "Epoch 73/100\n",
            "82/82 [==============================] - 0s 2ms/step - loss: 0.8342 - accuracy: 0.6076\n",
            "Epoch 74/100\n",
            "82/82 [==============================] - 0s 2ms/step - loss: 1.0108 - accuracy: 0.5992\n",
            "Epoch 75/100\n",
            "82/82 [==============================] - 0s 2ms/step - loss: 1.0515 - accuracy: 0.5889\n",
            "Epoch 76/100\n",
            "82/82 [==============================] - 0s 2ms/step - loss: 0.9720 - accuracy: 0.5882\n",
            "Epoch 77/100\n",
            "82/82 [==============================] - 0s 2ms/step - loss: 0.8848 - accuracy: 0.6092\n",
            "Epoch 78/100\n",
            "82/82 [==============================] - 0s 3ms/step - loss: 0.8652 - accuracy: 0.6076\n",
            "Epoch 79/100\n",
            "82/82 [==============================] - 0s 3ms/step - loss: 0.9015 - accuracy: 0.6080\n",
            "Epoch 80/100\n",
            "82/82 [==============================] - 0s 3ms/step - loss: 0.9185 - accuracy: 0.6061\n",
            "Epoch 81/100\n",
            "82/82 [==============================] - 0s 3ms/step - loss: 0.8578 - accuracy: 0.6080\n",
            "Epoch 82/100\n",
            "82/82 [==============================] - 0s 3ms/step - loss: 0.9377 - accuracy: 0.6053\n",
            "Epoch 83/100\n",
            "82/82 [==============================] - 0s 3ms/step - loss: 0.8487 - accuracy: 0.6073\n",
            "Epoch 84/100\n",
            "82/82 [==============================] - 0s 3ms/step - loss: 0.8271 - accuracy: 0.6073\n",
            "Epoch 85/100\n",
            "82/82 [==============================] - 0s 3ms/step - loss: 0.8421 - accuracy: 0.6073\n",
            "Epoch 86/100\n",
            "82/82 [==============================] - 0s 3ms/step - loss: 0.8325 - accuracy: 0.6069\n",
            "Epoch 87/100\n",
            "82/82 [==============================] - 0s 3ms/step - loss: 0.8423 - accuracy: 0.6069\n",
            "Epoch 88/100\n",
            "82/82 [==============================] - 0s 3ms/step - loss: 0.8251 - accuracy: 0.6069\n",
            "Epoch 89/100\n",
            "82/82 [==============================] - 0s 3ms/step - loss: 0.8237 - accuracy: 0.6069\n",
            "Epoch 90/100\n",
            "82/82 [==============================] - 0s 3ms/step - loss: 0.8236 - accuracy: 0.6076\n",
            "Epoch 91/100\n",
            "82/82 [==============================] - 0s 2ms/step - loss: 0.8226 - accuracy: 0.6080\n",
            "Epoch 92/100\n",
            "82/82 [==============================] - 0s 2ms/step - loss: 0.8879 - accuracy: 0.6073\n",
            "Epoch 93/100\n",
            "82/82 [==============================] - 0s 2ms/step - loss: 0.8481 - accuracy: 0.6069\n",
            "Epoch 94/100\n",
            "82/82 [==============================] - 0s 2ms/step - loss: 0.8032 - accuracy: 0.6065\n",
            "Epoch 95/100\n",
            "82/82 [==============================] - 0s 2ms/step - loss: 0.7936 - accuracy: 0.6073\n",
            "Epoch 96/100\n",
            "82/82 [==============================] - 0s 2ms/step - loss: 0.7944 - accuracy: 0.6073\n",
            "Epoch 97/100\n",
            "82/82 [==============================] - 0s 2ms/step - loss: 0.7934 - accuracy: 0.6073\n",
            "Epoch 98/100\n",
            "82/82 [==============================] - 0s 2ms/step - loss: 0.7931 - accuracy: 0.6076\n",
            "Epoch 99/100\n",
            "82/82 [==============================] - 0s 2ms/step - loss: 0.7935 - accuracy: 0.6073\n",
            "Epoch 100/100\n",
            "82/82 [==============================] - 0s 2ms/step - loss: 0.7937 - accuracy: 0.6069\n"
          ]
        },
        {
          "output_type": "execute_result",
          "data": {
            "text/plain": [
              "<keras.callbacks.History at 0x7f3790497130>"
            ]
          },
          "metadata": {},
          "execution_count": 21
        }
      ]
    }
  ]
}